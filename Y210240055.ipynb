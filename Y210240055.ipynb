{
 "cells": [
  {
   "cell_type": "code",
   "execution_count": 5,
   "metadata": {},
   "outputs": [],
   "source": [
    "shop_list = []"
   ]
  },
  {
   "cell_type": "code",
   "execution_count": 6,
   "metadata": {},
   "outputs": [],
   "source": [
    "\n",
    "# Kullanıcıdan alınan girdileri listeye ekleyen fonksiyon\n",
    "def add_shop(shop_list):\n",
    "    shop = input(\"Alışverişi giriniz \")\n",
    "    shop_list.append(shop)\n",
    "    print(\"Alışveriş başarıyla eklendi.\")\n"
   ]
  },
  {
   "cell_type": "code",
   "execution_count": 7,
   "metadata": {},
   "outputs": [],
   "source": [
    "# Listeden görev silen fonksiyon\n",
    "def delete_shop(to_do_list):\n",
    "    task = input(\"Silmek istediğiniz alışverişi girin: \")\n",
    "    if task in to_do_list:\n",
    "        to_do_list.remove(task)\n",
    "        print(\"Alışveriş başarıyla silindi.\")\n",
    "    else:\n",
    "        print(\"Alışveriş bulunamadı.\")"
   ]
  },
  {
   "cell_type": "code",
   "execution_count": 8,
   "metadata": {},
   "outputs": [],
   "source": [
    "\n",
    "# Alışveri Listesini Döner\n",
    "def show_shops(shop_list):\n",
    "    print(\"Yapılacak Alışverişler: \")\n",
    "    for shop in shop_list:\n",
    "        print(\"- \" + shop)"
   ]
  },
  {
   "cell_type": "code",
   "execution_count": null,
   "metadata": {},
   "outputs": [],
   "source": [
    "# Harcama Listesi\n",
    "while True:\n",
    "    print(\"\\n Harcama Listesi Uygulaması\")\n",
    "    print(\"1. Alışveri Ekle\")\n",
    "    print(\"2. Alışverileri Göster\")\n",
    "    print(\"3. Alışveriş Sil\")\n",
    "    \n",
    "    print(\"4. Çıkış\")\n",
    "    choice = input(\"Seçiminiz (1/2/3/4): \")\n",
    "    if choice == \"1\":\n",
    "         add_shop(shop_list)\n",
    "    elif choice == \"2\":\n",
    "         show_shops(shop_list)\n",
    "    elif choice == \"3\":\n",
    "         delete_shop(shop_list)\n",
    "    elif choice == \"4\":\n",
    "       print(\"Uygulamadan çıkılıyor...\")\n",
    "       break\n",
    "\n",
    "    else:\n",
    "        print(\"Geçersiz seçim. Lütfen tekrar deneyin.\")\n",
    "    \n",
    "  "
   ]
  },
  {
   "cell_type": "code",
   "execution_count": null,
   "metadata": {},
   "outputs": [],
   "source": [
    "# Yararlandığım Kaynaklar\n",
    "#https://www.python.org/doc/\n",
    "#https://docs.python.org/3/tutorial/index.html\n"
   ]
  }
 ],
 "metadata": {
  "kernelspec": {
   "display_name": "Python 3",
   "language": "python",
   "name": "python3"
  },
  "language_info": {
   "codemirror_mode": {
    "name": "ipython",
    "version": 3
   },
   "file_extension": ".py",
   "mimetype": "text/x-python",
   "name": "python",
   "nbconvert_exporter": "python",
   "pygments_lexer": "ipython3",
   "version": "3.11.3"
  },
  "orig_nbformat": 4
 },
 "nbformat": 4,
 "nbformat_minor": 2
}
