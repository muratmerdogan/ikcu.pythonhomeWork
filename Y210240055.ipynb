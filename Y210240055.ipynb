{
 "cells": [
  {
   "attachments": {},
   "cell_type": "markdown",
   "metadata": {},
   "source": []
  },
  {
   "cell_type": "code",
   "execution_count": 62,
   "metadata": {},
   "outputs": [],
   "source": [
    "#global dizi değişkeni, aşağıda tanımlanan user-defined fonksiyonları içinden bu değişkenin \n",
    "#değeri değiştirilir\n",
    "shop_list = []"
   ]
  },
  {
   "cell_type": "code",
   "execution_count": 63,
   "metadata": {},
   "outputs": [],
   "source": [
    "# Kullanıcıdan alınan girdileri listeye ekleyen fonksiyon\n",
    "# global değişkene ekleme yapar\n",
    "def add_shop(shop_list):\n",
    "    shop = input(\"Alışverişi giriniz \")\n",
    "    shop_list.append(shop)\n",
    "    print(\"Alışveriş başarıyla eklendi.\")"
   ]
  },
  {
   "cell_type": "code",
   "execution_count": 64,
   "metadata": {},
   "outputs": [],
   "source": [
    "# alışveriş silen fonksiyon\n",
    "# global değişken üzerinden silme yapar\n",
    "def delete_shop(to_do_list):\n",
    "    shop = input(\"Silmek istediğiniz alışverişi girin: \")\n",
    "    if shop in to_do_list:\n",
    "        to_do_list.remove(shop)\n",
    "        print(\"Alışveriş başarıyla silindi.\")\n",
    "    else:\n",
    "        print(\"Alışveriş bulunamadı.\")"
   ]
  },
  {
   "cell_type": "code",
   "execution_count": 65,
   "metadata": {},
   "outputs": [],
   "source": [
    "# Alışveri Listesini Döner\n",
    "# global değişken üzerinde döner ve verileri basar\n",
    "\n",
    "def show_shops(shop_list):\n",
    "    print(\"Yapılacak Alışverişler: \")\n",
    "    for shop in shop_list:\n",
    "        print(\"- \" + shop)"
   ]
  },
  {
   "cell_type": "code",
   "execution_count": 66,
   "metadata": {},
   "outputs": [
    {
     "name": "stdout",
     "output_type": "stream",
     "text": [
      "\n",
      " Alışveriş Listesi Uygulaması\n",
      "1. Alışveri Ekle\n",
      "2. Alışverileri Göster\n",
      "3. Alışveriş Sil\n",
      "4. Çıkış\n",
      "Geçersiz seçim. Lütfen tekrar deneyin.\n",
      "\n",
      " Alışveriş Listesi Uygulaması\n",
      "1. Alışveri Ekle\n",
      "2. Alışverileri Göster\n",
      "3. Alışveriş Sil\n",
      "4. Çıkış\n",
      "Uygulamadan çıkılıyor...\n"
     ]
    }
   ],
   "source": [
    "# Alışveri Uygulaması\n",
    "# kullanıdan input fonksiyonu yardımı ile seçim alınır\n",
    "# while fonksiyonu ile ekranda sürekli seçim beklenmesi sağlanır\n",
    "# girilen seçime göre fonksiyonlar çağrılır ve işlemler yapılır\n",
    "# ardından ekrana tekrar seçim beklenir\n",
    "# ve son olarak çıkış seçeneği ile uygulama sonlandırılır\n",
    "\n",
    "\n",
    "while True:\n",
    "    print(\"\\n Alışveriş Listesi Uygulaması\")\n",
    "    print(\"1. Alışveri Ekle\")\n",
    "    print(\"2. Alışverileri Göster\")\n",
    "    print(\"3. Alışveriş Sil\")\n",
    "    \n",
    "    print(\"4. Çıkış\")\n",
    "    choice = input(\"Seçiminiz (1/2/3/4): \")\n",
    "    if choice == \"1\":\n",
    "         add_shop(shop_list)\n",
    "    elif choice == \"2\":\n",
    "         show_shops(shop_list)\n",
    "    elif choice == \"3\":\n",
    "         delete_shop(shop_list)\n",
    "    elif choice == \"4\":\n",
    "       print(\"Uygulamadan çıkılıyor...\")\n",
    "       break\n",
    "    else:\n",
    "        print(\"Geçersiz seçim. Lütfen tekrar deneyin.\")"
   ]
  },
  {
   "cell_type": "code",
   "execution_count": 67,
   "metadata": {},
   "outputs": [],
   "source": [
    "# Yararlandığım Kaynaklar\n",
    "#https://www.python.org/doc/\n",
    "#https://docs.python.org/3/tutorial/index.html\n",
    "\n",
    "# uygulamanın github linki\n",
    "#https://github.com/muratmerdogan/ikcu.pythonhomeWork"
   ]
  },
  {
   "cell_type": "markdown",
   "metadata": {},
   "source": []
  }
 ],
 "metadata": {
  "kernelspec": {
   "display_name": "Python 3",
   "language": "python",
   "name": "python3"
  },
  "language_info": {
   "codemirror_mode": {
    "name": "ipython",
    "version": 3
   },
   "file_extension": ".py",
   "mimetype": "text/x-python",
   "name": "python",
   "nbconvert_exporter": "python",
   "pygments_lexer": "ipython3",
   "version": "3.11.3"
  },
  "orig_nbformat": 4
 },
 "nbformat": 4,
 "nbformat_minor": 2
}
